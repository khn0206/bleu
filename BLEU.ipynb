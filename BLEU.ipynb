{
 "cells": [
  {
   "cell_type": "code",
   "execution_count": 5,
   "metadata": {},
   "outputs": [],
   "source": [
    "# Author : Hannam Kim(khn0206@gmail.com)\n",
    "\n",
    "def ngram(sentence, n):\n",
    "    splited = sentence.split(' ')\n",
    "    result = {}\n",
    "    for k in range(1, n + 1):\n",
    "        currentIndex = 0\n",
    "        currentResult = []\n",
    "        for index in range(len(splited)):\n",
    "            if currentIndex == len(splited) - k + 1:\n",
    "                break\n",
    "            seq = ''\n",
    "            for local in range(currentIndex, currentIndex + k):\n",
    "                seq += splited[local] + ' '\n",
    "            currentResult.append(seq)\n",
    "            currentIndex += 1\n",
    "        result[k] = currentResult        \n",
    "    return result"
   ]
  },
  {
   "cell_type": "code",
   "execution_count": 6,
   "metadata": {
    "collapsed": true
   },
   "outputs": [],
   "source": [
    "def get_brevity_penalty(infer, refer):\n",
    "    return min(1, len(infer[1]) / len(refer[1]))"
   ]
  },
  {
   "cell_type": "code",
   "execution_count": 7,
   "metadata": {
    "collapsed": true
   },
   "outputs": [],
   "source": [
    "def get_score(infer_sentence, refer_sentence, k=4):\n",
    "    infer = ngram(infer_sentence, k)\n",
    "    refer = ngram(refer_sentence, k)\n",
    "    brevity_penalty = get_brevity_penalty(infer, refer)\n",
    "    print('\\nBrevity penalty:',brevity_penalty)\n",
    "    sum = 1\n",
    "    for i in range(1, k+1):\n",
    "        print('\\n%d-gram'%(i))\n",
    "        currentInfer = infer[i]\n",
    "        currentRefer = refer[i]\n",
    "        denominator = len(currentInfer)\n",
    "        numerator = 0\n",
    "        for i in range(len(currentInfer)):\n",
    "            if currentInfer[i] in currentRefer:\n",
    "                print('  (',currentInfer[i],')')\n",
    "                numerator += 1\n",
    "        print('  precision:', (numerator / denominator))\n",
    "        sum *= (numerator / denominator)\n",
    "    sum = sum**(1 / k)\n",
    "    return brevity_penalty * sum"
   ]
  },
  {
   "cell_type": "code",
   "execution_count": 9,
   "metadata": {},
   "outputs": [
    {
     "name": "stdout",
     "output_type": "stream",
     "text": [
      "\n",
      "Brevity penalty: 1\n",
      "\n",
      "1-gram\n",
      "  ( 빛이  )\n",
      "  ( 쐬는  )\n",
      "  ( 완벽한  )\n",
      "  ( 잠든  )\n",
      "  ( 사람과  )\n",
      "  ( 비교할  )\n",
      "  ( 때  )\n",
      "  ( 심해질  )\n",
      "  ( 훨씬  )\n",
      "  ( 높았다  )\n",
      "  precision: 0.7142857142857143\n",
      "\n",
      "2-gram\n",
      "  ( 빛이 쐬는  )\n",
      "  ( 잠든 사람과  )\n",
      "  ( 사람과 비교할  )\n",
      "  ( 비교할 때  )\n",
      "  ( 훨씬 높았다  )\n",
      "  precision: 0.38461538461538464\n",
      "\n",
      "3-gram\n",
      "  ( 잠든 사람과 비교할  )\n",
      "  ( 사람과 비교할 때  )\n",
      "  precision: 0.16666666666666666\n",
      "\n",
      "4-gram\n",
      "  ( 잠든 사람과 비교할 때  )\n",
      "  precision: 0.09090909090909091\n",
      "\n",
      "N-gram Score :  0.25400289715190977\n"
     ]
    }
   ],
   "source": [
    "sentence_inference = '빛이 쐬는 노인은 완벽한 어두운곳에서 잠든 사람과 비교할 때 강박증이 심해질 기회가 훨씬 높았다'\n",
    "sentence_reference = '빛이 쐬는 사람은 완벽한 어둠에서 잠든 사람과 비교할 때 우울증이 심해질 가능성이 훨씬 높았다'\n",
    "\n",
    "print('\\nN-gram Score : ', get_score(sentence_inference, sentence_reference))"
   ]
  },
  {
   "cell_type": "code",
   "execution_count": null,
   "metadata": {
    "collapsed": true
   },
   "outputs": [],
   "source": []
  }
 ],
 "metadata": {
  "kernelspec": {
   "display_name": "Python 3",
   "language": "python",
   "name": "python3"
  },
  "language_info": {
   "codemirror_mode": {
    "name": "ipython",
    "version": 3
   },
   "file_extension": ".py",
   "mimetype": "text/x-python",
   "name": "python",
   "nbconvert_exporter": "python",
   "pygments_lexer": "ipython3",
   "version": "3.6.3"
  }
 },
 "nbformat": 4,
 "nbformat_minor": 2
}
